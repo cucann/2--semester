{
  "nbformat": 4,
  "nbformat_minor": 0,
  "metadata": {
    "colab": {
      "provenance": [],
      "include_colab_link": true
    },
    "kernelspec": {
      "name": "python3",
      "display_name": "Python 3"
    },
    "language_info": {
      "name": "python"
    }
  },
  "cells": [
    {
      "cell_type": "markdown",
      "metadata": {
        "id": "view-in-github",
        "colab_type": "text"
      },
      "source": [
        "<a href=\"https://colab.research.google.com/github/cucann/2--semester/blob/main/sqlalchemy_data_from_pandas_to_postgres.ipynb\" target=\"_parent\"><img src=\"https://colab.research.google.com/assets/colab-badge.svg\" alt=\"Open In Colab\"/></a>"
      ]
    },
    {
      "cell_type": "code",
      "source": [
        "!pip install sqlalchemy"
      ],
      "metadata": {
        "id": "vvOK-jRcujfw"
      },
      "execution_count": null,
      "outputs": []
    },
    {
      "cell_type": "code",
      "source": [
        "from google.colab import files\n",
        "\n",
        "uploaded = files.upload()"
      ],
      "metadata": {
        "id": "4sONsrE3vOXr"
      },
      "execution_count": null,
      "outputs": []
    },
    {
      "cell_type": "code",
      "source": [
        "import pandas as pd\n",
        "from sqlalchemy import create_engine"
      ],
      "metadata": {
        "id": "UfCuCHoHvUE1"
      },
      "execution_count": null,
      "outputs": []
    },
    {
      "cell_type": "code",
      "source": [
        "df = pd.read_csv('top_cities.csv')\n",
        "df.columns = [c.lower() for c in df.columns]"
      ],
      "metadata": {
        "id": "HaHYzgvdvwHi"
      },
      "execution_count": null,
      "outputs": []
    },
    {
      "cell_type": "code",
      "source": [
        "df"
      ],
      "metadata": {
        "id": "vRww_41_vxjN"
      },
      "execution_count": null,
      "outputs": []
    },
    {
      "cell_type": "code",
      "execution_count": null,
      "metadata": {
        "id": "Y9mUZOSHuTs0"
      },
      "outputs": [],
      "source": [
        "engine = create_engine('postgresql://login:pass@ip:5432/db')\n",
        "engine.connect()\n",
        "connection = engine.connect()\n",
        "print(engine)"
      ]
    },
    {
      "cell_type": "code",
      "source": [
        "df.to_sql('df', con=engine, if_exists='replace',\n",
        "          index=False)"
      ],
      "metadata": {
        "id": "gEHqjhQzyu32"
      },
      "execution_count": null,
      "outputs": []
    },
    {
      "cell_type": "code",
      "source": [
        "connection = engine.connect()\n",
        "connection.close()"
      ],
      "metadata": {
        "id": "qJ_mKU_wxLz0"
      },
      "execution_count": null,
      "outputs": []
    }
  ]
}